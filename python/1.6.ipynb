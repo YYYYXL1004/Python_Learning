{
 "cells": [
  {
   "cell_type": "markdown",
   "id": "08ed2c61",
   "metadata": {},
   "source": [
    "### 基础"
   ]
  },
  {
   "cell_type": "code",
   "execution_count": 1,
   "id": "be475a51",
   "metadata": {},
   "outputs": [
    {
     "name": "stdout",
     "output_type": "stream",
     "text": [
      "YXL is 20\n",
      "{name} is {age}\n"
     ]
    }
   ],
   "source": [
    "age = 20\n",
    "name = 'YXL'\n",
    "print(f\"{name} is {age}\")\n",
    "print(\"{name} is {age}\")"
   ]
  },
  {
   "cell_type": "code",
   "execution_count": 2,
   "id": "29ad3ad4",
   "metadata": {},
   "outputs": [
    {
     "name": "stdout",
     "output_type": "stream",
     "text": [
      "0.333\n",
      "____yyy____\n"
     ]
    }
   ],
   "source": [
    "print('{0:.3f}'.format(1.0/3))\n",
    "print('{0:_^11}'.format('yyy'))"
   ]
  },
  {
   "cell_type": "code",
   "execution_count": 3,
   "id": "2d1cb815",
   "metadata": {},
   "outputs": [
    {
     "data": {
      "text/plain": [
       "-5"
      ]
     },
     "execution_count": 3,
     "metadata": {},
     "output_type": "execute_result"
    }
   ],
   "source": [
    "-13 // 3"
   ]
  },
  {
   "cell_type": "code",
   "execution_count": 4,
   "id": "f91a01db",
   "metadata": {},
   "outputs": [
    {
     "data": {
      "text/plain": [
       "4"
      ]
     },
     "execution_count": 4,
     "metadata": {},
     "output_type": "execute_result"
    }
   ],
   "source": [
    "13 // 3"
   ]
  },
  {
   "cell_type": "code",
   "execution_count": 5,
   "id": "7539901c",
   "metadata": {},
   "outputs": [
    {
     "name": "stdout",
     "output_type": "stream",
     "text": [
      "0\n",
      "1\n",
      "2\n",
      "3\n",
      "4\n",
      "end\n"
     ]
    }
   ],
   "source": [
    "for i in range(5):\n",
    "    print(i)\n",
    "else:\n",
    "    print(\"end\")"
   ]
  },
  {
   "cell_type": "code",
   "execution_count": 6,
   "id": "f81aab63",
   "metadata": {},
   "outputs": [
    {
     "name": "stdout",
     "output_type": "stream",
     "text": [
      "1 2 3 4 rang(1,5) end\n",
      "1\n",
      "3\n",
      "range(1,5,2) end\n"
     ]
    }
   ],
   "source": [
    "for i in range(1,5):\n",
    "    print(i,end=\" \")\n",
    "else:\n",
    "    print(\"rang(1,5) end\")\n",
    "\n",
    "for i in range(1,5,2):\n",
    "    print(i)\n",
    "else:\n",
    "    print(\"range(1,5,2) end\")"
   ]
  },
  {
   "cell_type": "code",
   "execution_count": 7,
   "id": "dfa602ef",
   "metadata": {},
   "outputs": [
    {
     "name": "stdout",
     "output_type": "stream",
     "text": [
      "hello yyy\n"
     ]
    }
   ],
   "source": [
    "def hello():\n",
    "    print(\"hello yyy\")\n",
    "\n",
    "hello()"
   ]
  },
  {
   "cell_type": "code",
   "execution_count": 8,
   "id": "893d4c3e",
   "metadata": {},
   "outputs": [
    {
     "name": "stdout",
     "output_type": "stream",
     "text": [
      "5 is bigger\n"
     ]
    }
   ],
   "source": [
    "def _max(a,b):\n",
    "    if(a>b):\n",
    "        print(f\"{a} is max number\")\n",
    "    else:\n",
    "        print(f\"{b} is bigger\")\n",
    "\n",
    "_max(4,5)"
   ]
  },
  {
   "cell_type": "code",
   "execution_count": 9,
   "id": "485e784d",
   "metadata": {},
   "outputs": [
    {
     "name": "stdout",
     "output_type": "stream",
     "text": [
      "a 10\n",
      "1 2 3 \n",
      "Jack 1123\n",
      "Mark 6666\n"
     ]
    }
   ],
   "source": [
    "# 可变参数 *param 元组 **param 字典\n",
    "def total(a, *numbers, **phonebook):\n",
    "    print('a', a)\n",
    "    for i in numbers:\n",
    "        print(i,end=' ')\n",
    "    print()\n",
    "    for x, y in phonebook.items():\n",
    "        print(x,y)\n",
    "\n",
    "total(10,1,2,3,Jack=1123,Mark=6666)"
   ]
  },
  {
   "cell_type": "code",
   "execution_count": 10,
   "id": "b8e23385",
   "metadata": {},
   "outputs": [
    {
     "name": "stdout",
     "output_type": "stream",
     "text": [
      "\n",
      "    测试 .__doc__\n",
      "    \n"
     ]
    }
   ],
   "source": [
    "def test_doc():\n",
    "    \"\"\"\n",
    "    测试 .__doc__\n",
    "    \"\"\"\n",
    "    print()\n",
    "print(test_doc.__doc__)"
   ]
  },
  {
   "cell_type": "code",
   "execution_count": 11,
   "id": "99c69092",
   "metadata": {},
   "outputs": [
    {
     "name": "stdout",
     "output_type": "stream",
     "text": [
      "d:\\ProgramData\\anaconda3\\envs\\ailearn\\lib\\site-packages\\ipykernel_launcher.py\n",
      "--f=c:\\Users\\24983\\AppData\\Roaming\\jupyter\\runtime\\kernel-v35cdc1feee77d4aa937bea706c0a8294acf7b780e.json\n",
      "\n",
      "\n",
      "The PYTHONPATH is  ['d:\\\\ProgramData\\\\anaconda3\\\\envs\\\\ailearn\\\\python39.zip', 'd:\\\\ProgramData\\\\anaconda3\\\\envs\\\\ailearn\\\\DLLs', 'd:\\\\ProgramData\\\\anaconda3\\\\envs\\\\ailearn\\\\lib', 'd:\\\\ProgramData\\\\anaconda3\\\\envs\\\\ailearn', '', 'd:\\\\ProgramData\\\\anaconda3\\\\envs\\\\ailearn\\\\lib\\\\site-packages', 'd:\\\\ProgramData\\\\anaconda3\\\\envs\\\\ailearn\\\\lib\\\\site-packages\\\\xclib-0.97-py3.9-win-amd64.egg', 'd:\\\\ProgramData\\\\anaconda3\\\\envs\\\\ailearn\\\\lib\\\\site-packages\\\\win32', 'd:\\\\ProgramData\\\\anaconda3\\\\envs\\\\ailearn\\\\lib\\\\site-packages\\\\win32\\\\lib', 'd:\\\\ProgramData\\\\anaconda3\\\\envs\\\\ailearn\\\\lib\\\\site-packages\\\\Pythonwin', 'D:\\\\PycharmProjects\\\\Oral-Learning\\\\GPT-SoVITS-v2-240807', 'D:\\\\PycharmProjects\\\\Oral-Learning\\\\GPT-SoVITS-v2-240807\\\\tools', 'D:\\\\PycharmProjects\\\\Oral-Learning\\\\GPT-SoVITS-v2-240807\\\\GPT_SoVITS', 'D:\\\\PycharmProjects\\\\Oral-Learning\\\\GPT-SoVITS-v2-240807\\\\tools\\\\uvr5'] \n",
      "\n"
     ]
    }
   ],
   "source": [
    "import sys\n",
    "\n",
    "for i in sys.argv:\n",
    "    print(i)\n",
    "\n",
    "print(\"\\n\\nThe PYTHONPATH is \",sys.path,'\\n')"
   ]
  },
  {
   "cell_type": "code",
   "execution_count": 12,
   "id": "8fd149b4",
   "metadata": {},
   "outputs": [
    {
     "name": "stdout",
     "output_type": "stream",
     "text": [
      "d:\\Github\\Python_Learning\n"
     ]
    }
   ],
   "source": [
    "import os\n",
    "print(os.getcwd())"
   ]
  },
  {
   "cell_type": "code",
   "execution_count": 13,
   "id": "57a6fc76",
   "metadata": {},
   "outputs": [
    {
     "data": {
      "text/plain": [
       "['__breakpointhook__',\n",
       " '__displayhook__',\n",
       " '__doc__',\n",
       " '__excepthook__',\n",
       " '__interactivehook__',\n",
       " '__loader__',\n",
       " '__name__',\n",
       " '__package__',\n",
       " '__spec__',\n",
       " '__stderr__',\n",
       " '__stdin__',\n",
       " '__stdout__',\n",
       " '__unraisablehook__',\n",
       " '_base_executable',\n",
       " '_clear_type_cache',\n",
       " '_current_frames',\n",
       " '_debugmallocstats',\n",
       " '_enablelegacywindowsfsencoding',\n",
       " '_framework',\n",
       " '_getframe',\n",
       " '_git',\n",
       " '_home',\n",
       " '_xoptions',\n",
       " 'addaudithook',\n",
       " 'api_version',\n",
       " 'argv',\n",
       " 'audit',\n",
       " 'base_exec_prefix',\n",
       " 'base_prefix',\n",
       " 'breakpointhook',\n",
       " 'builtin_module_names',\n",
       " 'byteorder',\n",
       " 'call_tracing',\n",
       " 'copyright',\n",
       " 'displayhook',\n",
       " 'dllhandle',\n",
       " 'dont_write_bytecode',\n",
       " 'exc_info',\n",
       " 'excepthook',\n",
       " 'exec_prefix',\n",
       " 'executable',\n",
       " 'exit',\n",
       " 'flags',\n",
       " 'float_info',\n",
       " 'float_repr_style',\n",
       " 'get_asyncgen_hooks',\n",
       " 'get_coroutine_origin_tracking_depth',\n",
       " 'get_int_max_str_digits',\n",
       " 'getallocatedblocks',\n",
       " 'getdefaultencoding',\n",
       " 'getfilesystemencodeerrors',\n",
       " 'getfilesystemencoding',\n",
       " 'getprofile',\n",
       " 'getrecursionlimit',\n",
       " 'getrefcount',\n",
       " 'getsizeof',\n",
       " 'getswitchinterval',\n",
       " 'gettrace',\n",
       " 'getwindowsversion',\n",
       " 'hash_info',\n",
       " 'hexversion',\n",
       " 'implementation',\n",
       " 'int_info',\n",
       " 'intern',\n",
       " 'is_finalizing',\n",
       " 'maxsize',\n",
       " 'maxunicode',\n",
       " 'meta_path',\n",
       " 'modules',\n",
       " 'path',\n",
       " 'path_hooks',\n",
       " 'path_importer_cache',\n",
       " 'platform',\n",
       " 'platlibdir',\n",
       " 'prefix',\n",
       " 'ps1',\n",
       " 'ps2',\n",
       " 'ps3',\n",
       " 'pycache_prefix',\n",
       " 'set_asyncgen_hooks',\n",
       " 'set_coroutine_origin_tracking_depth',\n",
       " 'set_int_max_str_digits',\n",
       " 'setprofile',\n",
       " 'setrecursionlimit',\n",
       " 'setswitchinterval',\n",
       " 'settrace',\n",
       " 'stderr',\n",
       " 'stdin',\n",
       " 'stdout',\n",
       " 'thread_info',\n",
       " 'unraisablehook',\n",
       " 'version',\n",
       " 'version_info',\n",
       " 'warnoptions',\n",
       " 'winver']"
      ]
     },
     "execution_count": 13,
     "metadata": {},
     "output_type": "execute_result"
    }
   ],
   "source": [
    "import sys\n",
    "dir(sys)"
   ]
  },
  {
   "cell_type": "markdown",
   "id": "5e5f3b79",
   "metadata": {},
   "source": [
    "### 数据结构"
   ]
  },
  {
   "cell_type": "markdown",
   "id": "8b8d97b2",
   "metadata": {},
   "source": [
    "#### list(列表)"
   ]
  },
  {
   "cell_type": "code",
   "execution_count": 14,
   "id": "848f7ef9",
   "metadata": {},
   "outputs": [
    {
     "name": "stdout",
     "output_type": "stream",
     "text": [
      "my_list's length 3\n",
      "a b v \n",
      "now my_list: ['a', 'b', 'v', 'l']\n",
      "now my_list: ['a', 'b', 'l', 'v']\n",
      "now my_list: ['b', 'l', 'v']\n"
     ]
    }
   ],
   "source": [
    "my_list = ['a','b','v']\n",
    "print(\"my_list's length\",len(my_list))\n",
    "\n",
    "for item in my_list:\n",
    "    print(item,end=\" \")\n",
    "\n",
    "my_list.append('l')\n",
    "print(\"\\nnow my_list:\", my_list)\n",
    "\n",
    "my_list.sort()\n",
    "print(\"now my_list:\", my_list)\n",
    "\n",
    "olditem = my_list[0]\n",
    "del my_list[0]\n",
    "print(\"now my_list:\", my_list)\n"
   ]
  },
  {
   "cell_type": "markdown",
   "id": "8c1cae64",
   "metadata": {},
   "source": [
    "#### Tuple(元组)"
   ]
  },
  {
   "cell_type": "code",
   "execution_count": 15,
   "id": "029de549",
   "metadata": {},
   "outputs": [
    {
     "name": "stdout",
     "output_type": "stream",
     "text": [
      "3\n",
      "('python', 'c++', 'java')\n",
      "3\n",
      "('666', '777', ('python', 'c++', 'java'))\n",
      "('python', 'c++', 'java')\n",
      "java\n"
     ]
    }
   ],
   "source": [
    "zoo = ('python','c++','java')\n",
    "print(len(zoo))\n",
    "print(zoo)\n",
    "\n",
    "# 嵌套元组\n",
    "new_zoo = '666', '777', zoo\n",
    "print(len(new_zoo))\n",
    "print(new_zoo)\n",
    "print(new_zoo[2])\n",
    "print(new_zoo[2][2])"
   ]
  },
  {
   "cell_type": "code",
   "execution_count": 16,
   "id": "54f43c33",
   "metadata": {},
   "outputs": [
    {
     "name": "stdout",
     "output_type": "stream",
     "text": [
      "(2,)\n",
      "<class 'tuple'>\n",
      "2\n",
      "<class 'int'>\n"
     ]
    }
   ],
   "source": [
    "single_tuple = (2,)\n",
    "print(single_tuple)\n",
    "print(type(single_tuple))\n",
    "single_num = (2)\n",
    "print(single_num)\n",
    "print(type(single_num))"
   ]
  },
  {
   "cell_type": "markdown",
   "id": "e0b1aa31",
   "metadata": {},
   "source": [
    "#### Dict(字典)"
   ]
  },
  {
   "cell_type": "code",
   "execution_count": 17,
   "id": "8d077e7b",
   "metadata": {},
   "outputs": [
    {
     "name": "stdout",
     "output_type": "stream",
     "text": [
      "{'a': 'aaaa', 'b': 'bbb', 'c': 'cc'}\n",
      "**************************************************\n",
      "a is aaaa\n",
      "b is bbb\n",
      "c is cc\n",
      "{'a': 'aaaa', 'b': 'bbb', 'c': 'cc', 'd': 'd'}\n",
      "{'a': 'aaaa', 'c': 'cc', 'd': 'd'}\n"
     ]
    }
   ],
   "source": [
    "ad = {\n",
    "    'a': 'aaaa',\n",
    "    'b': 'bbb',\n",
    "    'c': 'cc',\n",
    "}\n",
    "\n",
    "print(ad)\n",
    "print('*'*50)\n",
    "for key, value in ad.items():\n",
    "    print(key,'is',value) # 自带空格\n",
    "ad['d'] = 'd'\n",
    "print(ad)\n",
    "\n",
    "del ad['b']\n",
    "print(ad)"
   ]
  },
  {
   "cell_type": "markdown",
   "id": "725b0bc8",
   "metadata": {},
   "source": [
    "#### Sequence(序列)"
   ]
  },
  {
   "cell_type": "code",
   "execution_count": 18,
   "id": "ab259f8f",
   "metadata": {},
   "outputs": [
    {
     "name": "stdout",
     "output_type": "stream",
     "text": [
      "c\n",
      "d\n",
      "y\n",
      "['b', 'c']\n",
      "['b', 'c']\n",
      "['a', 'b', 'c']\n",
      "[0:] ['a', 'b', 'c', 'd']\n",
      "op\n"
     ]
    }
   ],
   "source": [
    "mylist = ['a','b','c','d']\n",
    "name = 'yops'\n",
    "print(mylist[-2])\n",
    "print(mylist[-1])\n",
    "print(name[0])\n",
    "print(mylist[1:3])  # 下标1,2\n",
    "print(mylist[1:-1])\n",
    "print(mylist[:-1])\n",
    "print('[0:]',mylist[0:])\n",
    "print(name[1:3])"
   ]
  },
  {
   "cell_type": "code",
   "execution_count": 19,
   "id": "9b914e81",
   "metadata": {},
   "outputs": [
    {
     "name": "stdout",
     "output_type": "stream",
     "text": [
      "['a', 'b', 'c', 'd']\n",
      "['a', 'c']\n",
      "['d', 'c', 'b', 'a']\n",
      "['d', 'b']\n"
     ]
    }
   ],
   "source": [
    "print(mylist[::1])  # 步长\n",
    "print(mylist[::2])\n",
    "print(mylist[::-1])  # 倒序\n",
    "print(mylist[::-2])"
   ]
  },
  {
   "cell_type": "markdown",
   "id": "379424e2",
   "metadata": {},
   "source": [
    "#### Set(集合)"
   ]
  },
  {
   "cell_type": "code",
   "execution_count": 20,
   "id": "53c31d8e",
   "metadata": {},
   "outputs": [
    {
     "name": "stdout",
     "output_type": "stream",
     "text": [
      "True\n",
      "False\n"
     ]
    }
   ],
   "source": [
    "bri = set(['a','b','c'])\n",
    "\n",
    "if 'a' in bri:\n",
    "    print(True)\n",
    "\n",
    "if 'd' in bri:\n",
    "    print(True)\n",
    "else:\n",
    "    print(False)"
   ]
  },
  {
   "cell_type": "code",
   "execution_count": 21,
   "id": "3fbabf42",
   "metadata": {},
   "outputs": [
    {
     "data": {
      "text/plain": [
       "True"
      ]
     },
     "execution_count": 21,
     "metadata": {},
     "output_type": "execute_result"
    }
   ],
   "source": [
    "bric = bri.copy()\n",
    "bric.add('d')\n",
    "bric.issuperset(bri)"
   ]
  },
  {
   "cell_type": "code",
   "execution_count": 22,
   "id": "3bdb7c7f",
   "metadata": {},
   "outputs": [
    {
     "data": {
      "text/plain": [
       "False"
      ]
     },
     "execution_count": 22,
     "metadata": {},
     "output_type": "execute_result"
    }
   ],
   "source": [
    "bri.issuperset(bric)"
   ]
  },
  {
   "cell_type": "code",
   "execution_count": 23,
   "id": "925893d4",
   "metadata": {},
   "outputs": [
    {
     "data": {
      "text/plain": [
       "{'a', 'b'}"
      ]
     },
     "execution_count": 23,
     "metadata": {},
     "output_type": "execute_result"
    }
   ],
   "source": [
    "bri.remove('c')\n",
    "bri & bric"
   ]
  },
  {
   "cell_type": "markdown",
   "id": "18c1e94c",
   "metadata": {},
   "source": [
    "#### String(字符串)"
   ]
  },
  {
   "cell_type": "code",
   "execution_count": 24,
   "id": "00f46ad1",
   "metadata": {},
   "outputs": [
    {
     "name": "stdout",
     "output_type": "stream",
     "text": [
      "Yes\n",
      "yes\n",
      "A_*_B_*_C\n",
      "A!!!B!!!C\n"
     ]
    }
   ],
   "source": [
    "name = 'Swaroop'\n",
    "\n",
    "if name.startswith('Swa'):\n",
    "    print('Yes')\n",
    "if name.find('war') != -1:\n",
    "    print('yes')\n",
    "\n",
    "delimiter = '_*_'\n",
    "mylist = ['A','B','C']\n",
    "print(delimiter.join(mylist))\n",
    "\n",
    "d = '!!!'\n",
    "print(d.join(mylist))"
   ]
  },
  {
   "cell_type": "markdown",
   "id": "5ad57416",
   "metadata": {},
   "source": [
    "### 备份文件"
   ]
  },
  {
   "cell_type": "code",
   "execution_count": 25,
   "id": "86184f5d",
   "metadata": {},
   "outputs": [
    {
     "name": "stdout",
     "output_type": "stream",
     "text": [
      "20250912\n",
      "250912\n",
      "254012\n",
      "09/12/25\n",
      "214013\n"
     ]
    }
   ],
   "source": [
    "import time\n",
    "print(time.strftime('%Y%m%d'))\n",
    "print(time.strftime('%y%m%d'))\n",
    "print(time.strftime('%y%M%d'))\n",
    "print(time.strftime('%D'))\n",
    "print(time.strftime('%H%M%S'))"
   ]
  },
  {
   "cell_type": "code",
   "execution_count": 26,
   "id": "03389d88",
   "metadata": {},
   "outputs": [
    {
     "data": {
      "text/plain": [
       "'\\\\'"
      ]
     },
     "execution_count": 26,
     "metadata": {},
     "output_type": "execute_result"
    }
   ],
   "source": [
    "import os\n",
    "os.sep"
   ]
  },
  {
   "cell_type": "code",
   "execution_count": 27,
   "id": "a8f5c38e",
   "metadata": {},
   "outputs": [
    {
     "data": {
      "text/plain": [
       "WindowsPath('t.py')"
      ]
     },
     "execution_count": 27,
     "metadata": {},
     "output_type": "execute_result"
    }
   ],
   "source": [
    "from pathlib import Path\n",
    "Path('./t.py')"
   ]
  },
  {
   "cell_type": "code",
   "execution_count": 30,
   "id": "818fc871",
   "metadata": {},
   "outputs": [
    {
     "name": "stdout",
     "output_type": "stream",
     "text": [
      "Starting...\n",
      "Successful back up to beifen\\20250912\\214136_666.zip\n"
     ]
    }
   ],
   "source": [
    "import os\n",
    "import time\n",
    "import zipfile\n",
    "import re\n",
    "from pathlib import Path\n",
    "\n",
    "print('Starting...')\n",
    "source_file = [Path('./t.py')]\n",
    "target_dir = Path('./beifen/')\n",
    "\n",
    "if not os.path.exists(target_dir):  \n",
    "    os.mkdir(target_dir)  # 方法一\n",
    "\n",
    "# 设置子目录\n",
    "today_dir = target_dir / time.strftime('%Y%m%d')\n",
    "today_dir.mkdir(parents=True, exist_ok=True)  # 创建文件夹的两种方法\n",
    "\n",
    "\n",
    "now = time.strftime('%H%M%S') # 当前时间做文件名\n",
    "# comment = input('Enter a comment -->')\n",
    "comment = '666'\n",
    "if not comment:\n",
    "    target = f\"{now}.zip\"\n",
    "else:\n",
    "    # sane_comment = comment.replace(',','_')\n",
    "    target = f\"{now}_{comment}.zip\"\n",
    "\n",
    "target_zip = today_dir / target\n",
    "\n",
    "try:\n",
    "    with zipfile.ZipFile(target_zip, 'w') as zf:\n",
    "        for file in source_file:\n",
    "            if file.exists():\n",
    "                zf.write(file)\n",
    "            else:\n",
    "                print('No file')\n",
    "    print(f'Successful back up to {target_zip}')\n",
    "except Exception as e:\n",
    "    print(f'Backed failed:{e}')\n"
   ]
  },
  {
   "cell_type": "markdown",
   "id": "8aa2c686",
   "metadata": {},
   "source": [
    "### 文件"
   ]
  },
  {
   "cell_type": "code",
   "execution_count": 40,
   "id": "7d2d42c7",
   "metadata": {},
   "outputs": [
    {
     "name": "stdout",
     "output_type": "stream",
     "text": [
      "abcdefg\n",
      "hijklmn\n",
      "opqrst\n",
      "uvwxyz\n"
     ]
    }
   ],
   "source": [
    "poem = '''\\\n",
    "abcdefg\n",
    "hijklmn\n",
    "opqrst\n",
    "uvwxyz\n",
    "'''\n",
    "\n",
    "f = open('poem.txt', 'w')\n",
    "f.write(poem)\n",
    "f.close()\n",
    "\n",
    "f = open('poem.txt') # 默认'r' 模式\n",
    "while True:\n",
    "    line = f.readline()\n",
    "    if not line:\n",
    "        break\n",
    "    print(line,end='')\n",
    "f.close()"
   ]
  },
  {
   "cell_type": "code",
   "execution_count": 39,
   "id": "8f0b86d5",
   "metadata": {},
   "outputs": [],
   "source": [
    "poem1 = '''\\\n",
    "abcdefg\n",
    "hijklmn\n",
    "opqrst\n",
    "uvwxyz\n",
    "'''\n",
    "\n",
    "f = open('poem1.txt', 'w')\n",
    "f.write(poem1)\n",
    "f.close()"
   ]
  }
 ],
 "metadata": {
  "kernelspec": {
   "display_name": "ailearn",
   "language": "python",
   "name": "python3"
  },
  "language_info": {
   "codemirror_mode": {
    "name": "ipython",
    "version": 3
   },
   "file_extension": ".py",
   "mimetype": "text/x-python",
   "name": "python",
   "nbconvert_exporter": "python",
   "pygments_lexer": "ipython3",
   "version": "3.9.18"
  }
 },
 "nbformat": 4,
 "nbformat_minor": 5
}
